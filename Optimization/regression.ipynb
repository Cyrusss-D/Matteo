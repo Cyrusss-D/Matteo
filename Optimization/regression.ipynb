{
 "cells": [
  {
   "cell_type": "code",
   "execution_count": 1,
   "metadata": {},
   "outputs": [],
   "source": [
    "import os\n",
    "import besos\n",
    "from besos import sampling\n",
    "from besos import eppy_funcs as ef\n",
    "from besos import eplus_funcs as ep\n",
    "from besos.problem import EPProblem\n",
    "from besos.evaluator import EvaluatorEP\n",
    "from besos.parameters import wwr, RangeParameter, FieldSelector, FilterSelector, GenericSelector, Parameter, expand_plist, DependentParameter, CategoryParameter\n",
    "from besos.objectives import MeterReader,time_series_values,EPResults\n",
    "from besos.optimizer import NSGAII, df_solution_to_solutions\n",
    "import pandas as pd\n",
    "import matplotlib.pyplot as plt\n",
    "from seaborn import heatmap\n",
    "from seaborn import pairplot\n",
    "from sub.min import *\n",
    "import numpy as np"
   ]
  },
  {
   "cell_type": "code",
   "execution_count": 2,
   "metadata": {},
   "outputs": [
    {
     "name": "stdout",
     "output_type": "stream",
     "text": [
      "<class 'pandas.core.frame.DataFrame'>\n",
      "Int64Index: 100 entries, 0 to 99\n",
      "Data columns (total 9 columns):\n",
      " #   Column                    Non-Null Count  Dtype  \n",
      "---  ------                    --------------  -----  \n",
      " 0   Orientation               100 non-null    int64  \n",
      " 1   Ventilation               100 non-null    float64\n",
      " 2   Shading                   100 non-null    float64\n",
      " 3   Insulation Thickness      100 non-null    float64\n",
      " 4   Window to Wall Ratio      100 non-null    float64\n",
      " 5   Electricity:Facility      100 non-null    float64\n",
      " 6   DistrictCooling:Facility  100 non-null    float64\n",
      " 7   DistrictHeating:Facility  100 non-null    float64\n",
      " 8   total (Q)                 100 non-null    float64\n",
      "dtypes: float64(8), int64(1)\n",
      "memory usage: 7.8 KB\n"
     ]
    }
   ],
   "source": [
    "objectives = ['Electricity:Facility','DistrictCooling:Facility', 'DistrictHeating:Facility']\n",
    "df_out3 = pd.read_csv(\"3_layer.csv\", index_col=0)\n",
    "np.random.seed(2)  # random seed grant us an comparable results obtained in each algorithm\n",
    "df_out3.info()  # the panda framework display an easier to read matrix\n",
    "data = df_out3[['Orientation','Ventilation','Shading','Insulation Thickness','Window to Wall Ratio','total (Q)']].values  # convert the values in the file into a matrix specifically an Ndarray"
   ]
  },
  {
   "cell_type": "code",
   "execution_count": 3,
   "metadata": {},
   "outputs": [
    {
     "data": {
      "text/plain": [
       "(100, 6)"
      ]
     },
     "execution_count": 3,
     "metadata": {},
     "output_type": "execute_result"
    }
   ],
   "source": [
    "Np, Nf = np.shape(data)\n",
    "Np, Nf"
   ]
  },
  {
   "cell_type": "code",
   "execution_count": 33,
   "metadata": {},
   "outputs": [
    {
     "name": "stdout",
     "output_type": "stream",
     "text": [
      "std deviation:  [9.87378347e+01 6.00000000e-02 9.11376553e+00 1.34462904e-01\n",
      " 2.17422791e-01 1.52173712e+01]\n"
     ]
    }
   ],
   "source": [
    "data_train = data[0:int(Np/2), :]  # the training data is 50% of the whole data set\n",
    "data_val = data[int(Np/2):int(Np*0.75), :]  # validation data set 25%\n",
    "data_test = data[int(Np*0.75):Np, :]  # test data set 25%\n",
    "\n",
    "mean = np.mean(data_train, 0)  # returns a row of means\n",
    "std = np.std(data_train, 0)  # returns a row of standard deviations\n",
    "print(\"std deviation: \", std)\n",
    "\n",
    "# standardizing our data means that an eventual offset will be not considered\n",
    "data_train_norm = (data_train - mean)/std\n",
    "data_val_norm = (data_val - mean)/std\n",
    "data_test_norm = (data_test - mean)/std"
   ]
  },
  {
   "cell_type": "code",
   "execution_count": 5,
   "metadata": {},
   "outputs": [
    {
     "data": {
      "text/plain": [
       "(array([ 5.77315973e-17,  0.00000000e+00, -1.11022302e-18, -5.55111512e-17,\n",
       "         5.77315973e-17,  1.52100554e-16]),\n",
       " array([1., 1., 1., 1., 1., 1.]))"
      ]
     },
     "execution_count": 5,
     "metadata": {},
     "output_type": "execute_result"
    }
   ],
   "source": [
    "# checking if the mean and standard deviation are respected\n",
    "mean_check = np.mean(data_train_norm, 0)  # returns a row of means\n",
    "std_check = np.std(data_train_norm, 0)  # returns a row of standard deviations\n",
    "mean_check, std_check"
   ]
  },
  {
   "cell_type": "code",
   "execution_count": 6,
   "metadata": {},
   "outputs": [],
   "source": [
    "F0 = 5 # F0 is the feature we want to choose in order to be the regressand in our case  it is the Total Q\n",
    "# regressands y and regressors X set up\n",
    "y_train = data_train_norm[:, F0]\n",
    "X_train = np.delete(data_train_norm, F0, 1)\n",
    "y_val = data_val_norm[:, F0]\n",
    "X_val = np.delete(data_val_norm, F0, 1)\n",
    "y_test = data_test_norm[:, F0]\n",
    "X_test = np.delete(data_test_norm, F0, 1)"
   ]
  },
  {
   "cell_type": "code",
   "execution_count": 7,
   "metadata": {},
   "outputs": [],
   "source": [
    "# with the slicing operation we have to keep in mind to check the resulting shape\n",
    "# print(np.shape(y_train)) to check\n",
    "y_train = y_train.reshape(y_train.shape[0], 1)\n",
    "y_val = y_val.reshape(y_val.shape[0], 1)\n",
    "y_test = y_test.reshape(y_test.shape[0], 1)\n",
    "# some inizialization before starting the algorithms\n",
    "logx = 0\n",
    "logy = 1\n",
    "Nit = 30\n",
    "gamma = 1e-5\n",
    "mse_train = np.zeros((6, 1), dtype=float)\n",
    "mse_val = np.zeros((6, 1), dtype=float)\n",
    "mse_test = np.zeros((6, 1), dtype=float)"
   ]
  },
  {
   "cell_type": "code",
   "execution_count": 8,
   "metadata": {},
   "outputs": [
    {
     "name": "stdout",
     "output_type": "stream",
     "text": [
      "Steepest Descent algorithm  :\n",
      "the optimum weight vector is: \n",
      "[[-0.01942819]\n",
      " [ 0.02405054]\n",
      " [ 0.02271791]\n",
      " [-0.77846603]\n",
      " [ 0.14416589]]\n"
     ]
    },
    {
     "data": {
      "image/png": "[encoded data removed]",
      "text/plain": [
       "<Figure size 432x288 with 1 Axes>"
      ]
     },
     "metadata": {
      "needs_background": "light"
     },
     "output_type": "display_data"
    },
    {
     "data": {
      "image/png": "[encoded data removed]",
      "text/plain": [
       "<Figure size 432x288 with 1 Axes>"
      ]
     },
     "metadata": {
      "needs_background": "light"
     },
     "output_type": "display_data"
    },
    {
     "data": {
      "image/png": "[encoded data removed]",
      "text/plain": [
       "<Figure size 432x288 with 1 Axes>"
      ]
     },
     "metadata": {
      "needs_background": "light"
     },
     "output_type": "display_data"
    },
    {
     "data": {
      "image/png": "[encoded data removed]",
      "text/plain": [
       "<Figure size 432x288 with 1 Axes>"
      ]
     },
     "metadata": {
      "needs_background": "light"
     },
     "output_type": "display_data"
    },
    {
     "data": {
      "image/png": "[encoded data removed]",
      "text/plain": [
       "<Figure size 432x288 with 1 Axes>"
      ]
     },
     "metadata": {
      "needs_background": "light"
     },
     "output_type": "display_data"
    }
   ],
   "source": [
    "sd = SolveSteepDesc(y_train, X_train, y_val, X_val, y_test, X_test)\n",
    "mse_train[2], mse_val[2], mse_test[2] = sd.run(Nit)\n",
    "sd.print_result('Steepest Descent algorithm')\n",
    "sd.plot_err('Steepest Descent : square error', logy, logx)\n",
    "sd.print_hat('yhat_train vs y_train for Steepest Descent', 'yhat_train','y_train',y_train, X_train,mean[F0],std[F0])\n",
    "sd.print_hat('yhat_test vs y_test for Steepest Descent', 'yhat_test', 'y_test', y_test, X_test, mean[F0],std[F0])"
   ]
  },
  {
   "cell_type": "code",
   "execution_count": 15,
   "metadata": {},
   "outputs": [
    {
     "data": {
      "text/plain": [
       "(5, 1)"
      ]
     },
     "execution_count": 15,
     "metadata": {},
     "output_type": "execute_result"
    }
   ],
   "source": [
    "w=np.array([[-0.01942819],\n",
    " [ 0.02405054],\n",
    " [ 0.02271791],\n",
    " [-0.77846603],\n",
    " [ 0.14416589],])\n",
    "w.shape"
   ]
  },
  {
   "cell_type": "code",
   "execution_count": 30,
   "metadata": {},
   "outputs": [
    {
     "data": {
      "text/html": [
       "<div>\n",
       "<style scoped>\n",
       "    .dataframe tbody tr th:only-of-type {\n",
       "        vertical-align: middle;\n",
       "    }\n",
       "\n",
       "    .dataframe tbody tr th {\n",
       "        vertical-align: top;\n",
       "    }\n",
       "\n",
       "    .dataframe thead th {\n",
       "        text-align: right;\n",
       "    }\n",
       "</style>\n",
       "<table border=\"1\" class=\"dataframe\">\n",
       "  <thead>\n",
       "    <tr style=\"text-align: right;\">\n",
       "      <th></th>\n",
       "      <th>Orientation</th>\n",
       "      <th>Ventilation</th>\n",
       "      <th>Shading</th>\n",
       "      <th>Insulation Thickness</th>\n",
       "      <th>Window to Wall Ratio</th>\n",
       "    </tr>\n",
       "  </thead>\n",
       "  <tbody>\n",
       "    <tr>\n",
       "      <th>0</th>\n",
       "      <td>0</td>\n",
       "      <td>0.00</td>\n",
       "      <td>0.0</td>\n",
       "      <td>0.01</td>\n",
       "      <td>0.01</td>\n",
       "    </tr>\n",
       "    <tr>\n",
       "      <th>1</th>\n",
       "      <td>0</td>\n",
       "      <td>0.00</td>\n",
       "      <td>1.0</td>\n",
       "      <td>0.01</td>\n",
       "      <td>0.01</td>\n",
       "    </tr>\n",
       "    <tr>\n",
       "      <th>2</th>\n",
       "      <td>0</td>\n",
       "      <td>0.00</td>\n",
       "      <td>2.0</td>\n",
       "      <td>0.01</td>\n",
       "      <td>0.01</td>\n",
       "    </tr>\n",
       "    <tr>\n",
       "      <th>3</th>\n",
       "      <td>0</td>\n",
       "      <td>0.00</td>\n",
       "      <td>3.0</td>\n",
       "      <td>0.01</td>\n",
       "      <td>0.01</td>\n",
       "    </tr>\n",
       "    <tr>\n",
       "      <th>4</th>\n",
       "      <td>0</td>\n",
       "      <td>0.00</td>\n",
       "      <td>4.0</td>\n",
       "      <td>0.01</td>\n",
       "      <td>0.01</td>\n",
       "    </tr>\n",
       "    <tr>\n",
       "      <th>...</th>\n",
       "      <td>...</td>\n",
       "      <td>...</td>\n",
       "      <td>...</td>\n",
       "      <td>...</td>\n",
       "      <td>...</td>\n",
       "    </tr>\n",
       "    <tr>\n",
       "      <th>1239995</th>\n",
       "      <td>270</td>\n",
       "      <td>0.12</td>\n",
       "      <td>26.0</td>\n",
       "      <td>0.50</td>\n",
       "      <td>0.90</td>\n",
       "    </tr>\n",
       "    <tr>\n",
       "      <th>1239996</th>\n",
       "      <td>270</td>\n",
       "      <td>0.12</td>\n",
       "      <td>27.0</td>\n",
       "      <td>0.50</td>\n",
       "      <td>0.90</td>\n",
       "    </tr>\n",
       "    <tr>\n",
       "      <th>1239997</th>\n",
       "      <td>270</td>\n",
       "      <td>0.12</td>\n",
       "      <td>28.0</td>\n",
       "      <td>0.50</td>\n",
       "      <td>0.90</td>\n",
       "    </tr>\n",
       "    <tr>\n",
       "      <th>1239998</th>\n",
       "      <td>270</td>\n",
       "      <td>0.12</td>\n",
       "      <td>29.0</td>\n",
       "      <td>0.50</td>\n",
       "      <td>0.90</td>\n",
       "    </tr>\n",
       "    <tr>\n",
       "      <th>1239999</th>\n",
       "      <td>270</td>\n",
       "      <td>0.12</td>\n",
       "      <td>30.0</td>\n",
       "      <td>0.50</td>\n",
       "      <td>0.90</td>\n",
       "    </tr>\n",
       "  </tbody>\n",
       "</table>\n",
       "<p>1240000 rows × 5 columns</p>\n",
       "</div>"
      ],
      "text/plain": [
       "         Orientation  Ventilation  Shading  Insulation Thickness  \\\n",
       "0                  0         0.00      0.0                  0.01   \n",
       "1                  0         0.00      1.0                  0.01   \n",
       "2                  0         0.00      2.0                  0.01   \n",
       "3                  0         0.00      3.0                  0.01   \n",
       "4                  0         0.00      4.0                  0.01   \n",
       "...              ...          ...      ...                   ...   \n",
       "1239995          270         0.12     26.0                  0.50   \n",
       "1239996          270         0.12     27.0                  0.50   \n",
       "1239997          270         0.12     28.0                  0.50   \n",
       "1239998          270         0.12     29.0                  0.50   \n",
       "1239999          270         0.12     30.0                  0.50   \n",
       "\n",
       "         Window to Wall Ratio  \n",
       "0                        0.01  \n",
       "1                        0.01  \n",
       "2                        0.01  \n",
       "3                        0.01  \n",
       "4                        0.01  \n",
       "...                       ...  \n",
       "1239995                  0.90  \n",
       "1239996                  0.90  \n",
       "1239997                  0.90  \n",
       "1239998                  0.90  \n",
       "1239999                  0.90  \n",
       "\n",
       "[1240000 rows x 5 columns]"
      ]
     },
     "execution_count": 30,
     "metadata": {},
     "output_type": "execute_result"
    }
   ],
   "source": [
    "samples_temp = []\n",
    "orientation_values = [0,90,180,270] \n",
    "wwr_values = np.linspace(0.01,0.9,100)\n",
    "ventilation_values = [0, 0.12] \n",
    "tickness_values = np.linspace(0.01,0.5,50)\n",
    "shading = np.linspace(0,30,31)\n",
    "for ori in orientation_values:\n",
    "    for wwr_ in wwr_values:\n",
    "        for vent in ventilation_values:\n",
    "            for tickness in tickness_values:\n",
    "                for shade in shading:\n",
    "                    samples_temp.append({'Orientation': ori,\n",
    "                                         'Ventilation': vent,\n",
    "                                         'Shading': shade,\n",
    "                                         'Insulation Thickness': tickness,\n",
    "                                         'Window to Wall Ratio': wwr_,})\n",
    "samples = pd.DataFrame.from_dict(samples_temp)\n",
    "samples"
   ]
  },
  {
   "cell_type": "code",
   "execution_count": 34,
   "metadata": {},
   "outputs": [
    {
     "data": {
      "text/plain": [
       "(array([ 0.07292038,  0.        ,  0.1402517 ,  0.05069636, -0.1058248 ]),\n",
       " array([1.01909323, 1.        , 0.98140246, 1.07322312, 1.19354118]))"
      ]
     },
     "execution_count": 34,
     "metadata": {},
     "output_type": "execute_result"
    }
   ],
   "source": [
    "test_data=samples.values\n",
    "test_data_norm=(test_data -mean[:5])/std[:5]\n",
    "# checking if the mean and standard deviation are respected\n",
    "mean_check = np.mean(test_data_norm, 0)  # returns a row of means\n",
    "std_check = np.std(test_data_norm, 0)  # returns a row of standard deviations\n",
    "mean_check, std_check"
   ]
  },
  {
   "cell_type": "code",
   "execution_count": 39,
   "metadata": {},
   "outputs": [
    {
     "data": {
      "text/plain": [
       "96.54543539289831"
      ]
     },
     "execution_count": 39,
     "metadata": {},
     "output_type": "execute_result"
    }
   ],
   "source": [
    "total_Q = np.dot(test_data_norm,w)\n",
    "total_Q_denorm = (total_Q * std[-1])+mean[-1]\n",
    "total_Q_denorm.min()"
   ]
  },
  {
   "cell_type": "code",
   "execution_count": 40,
   "metadata": {},
   "outputs": [
    {
     "data": {
      "text/plain": [
       "931519"
      ]
     },
     "execution_count": 40,
     "metadata": {},
     "output_type": "execute_result"
    }
   ],
   "source": [
    "total_Q.argmin()"
   ]
  },
  {
   "cell_type": "code",
   "execution_count": 43,
   "metadata": {},
   "outputs": [
    {
     "name": "stdout",
     "output_type": "stream",
     "text": [
      "[270.     0.     0.     0.5    0.01]\n"
     ]
    }
   ],
   "source": [
    "with np.printoptions(precision=3, suppress=True):\n",
    "    print(test_data[total_Q.argmin(),:])"
   ]
  },
  {
   "cell_type": "code",
   "execution_count": null,
   "metadata": {},
   "outputs": [],
   "source": []
  }
 ],
 "metadata": {
  "kernelspec": {
   "display_name": "Python 3",
   "language": "python",
   "name": "python3"
  },
  "language_info": {
   "codemirror_mode": {
    "name": "ipython",
    "version": 3
   },
   "file_extension": ".py",
   "mimetype": "text/x-python",
   "name": "python",
   "nbconvert_exporter": "python",
   "pygments_lexer": "ipython3",
   "version": "3.8.5"
  }
 },
 "nbformat": 4,
 "nbformat_minor": 4
}
