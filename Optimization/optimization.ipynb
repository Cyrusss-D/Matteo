{
 "cells": [
  {
   "cell_type": "code",
   "execution_count": 15,
   "metadata": {},
   "outputs": [],
   "source": [
    "import os\n",
    "import besos\n",
    "from besos import eppy_funcs as ef\n",
    "from besos import eplus_funcs as ep\n",
    "from besos.problem import EPProblem\n",
    "from besos.evaluator import EvaluatorEP\n",
    "from besos.parameters import wwr, RangeParameter, FieldSelector, FilterSelector, GenericSelector, Parameter, expand_plist,DependentParameter\n",
    "from besos.objectives import MeterReader,time_series_values,EPResults\n",
    "from besos.optimizer import NSGAII, df_solution_to_solutions\n",
    "import pandas as pd"
   ]
  },
  {
   "cell_type": "code",
   "execution_count": 2,
   "metadata": {},
   "outputs": [],
   "source": [
    "# Open the IDF file\n",
    "idf_directory = \"/home/ict4bd/Desktop/ict4building/DesignBuilderModel/1_layer_window.idf\"\n",
    "weather_file = '/home/ict4bd/Desktop/ict4building/Requirements/CHE_Geneva.067000_IWEC/CHE_Geneva.067000_IWEC.epw'\n",
    "building = ef.get_building(idf_directory)"
   ]
  },
  {
   "cell_type": "code",
   "execution_count": 4,
   "metadata": {},
   "outputs": [
    {
     "data": {
      "text/plain": [
       "'9.0'"
      ]
     },
     "execution_count": 4,
     "metadata": {},
     "output_type": "execute_result"
    }
   ],
   "source": [
    "# check the version\n",
    "ep.get_idf_version(building)"
   ]
  },
  {
   "cell_type": "code",
   "execution_count": 9,
   "metadata": {},
   "outputs": [
    {
     "name": "stdout",
     "output_type": "stream",
     "text": [
      "[Parameter(name='North Axis', selector=FieldSelector(field_name='North Axis', object_name='Building'), value_descriptor=RangeParameter(min=0, max=359))]\n"
     ]
    }
   ],
   "source": [
    "# Set up evaluator\n",
    "parameters = []\n",
    "parameters = expand_plist( # Use helper function to make parameter list\n",
    "    {'Building':                      # Name from IDF Building object\n",
    "          {'North Axis':(0,359)}}     # Change orientation from North\n",
    "    )\n",
    "print(parameters)"
   ]
  },
  {
   "cell_type": "code",
   "execution_count": 10,
   "metadata": {},
   "outputs": [],
   "source": [
    "objectives = ['Electricity:Facility','DistrictCooling:Facility', 'DistrictHeating:Facility']\n",
    "besos_problem = EPProblem(parameters, objectives)"
   ]
  },
  {
   "cell_type": "code",
   "execution_count": 20,
   "metadata": {},
   "outputs": [
    {
     "data": {
      "application/vnd.jupyter.widget-view+json": {
       "model_id": "c6be211eb845416c9f3c32bd58daa9cb",
       "version_major": 2,
       "version_minor": 0
      },
      "text/plain": [
       "HBox(children=(FloatProgress(value=0.0, description='Executing', max=4.0, style=ProgressStyle(description_widt…"
      ]
     },
     "metadata": {},
     "output_type": "display_data"
    },
    {
     "name": "stdout",
     "output_type": "stream",
     "text": [
      "\n"
     ]
    },
    {
     "data": {
      "text/html": [
       "<div>\n",
       "<style scoped>\n",
       "    .dataframe tbody tr th:only-of-type {\n",
       "        vertical-align: middle;\n",
       "    }\n",
       "\n",
       "    .dataframe tbody tr th {\n",
       "        vertical-align: top;\n",
       "    }\n",
       "\n",
       "    .dataframe thead th {\n",
       "        text-align: right;\n",
       "    }\n",
       "</style>\n",
       "<table border=\"1\" class=\"dataframe\">\n",
       "  <thead>\n",
       "    <tr style=\"text-align: right;\">\n",
       "      <th></th>\n",
       "      <th>Electricity:Facility</th>\n",
       "      <th>DistrictCooling:Facility</th>\n",
       "      <th>DistrictHeating:Facility</th>\n",
       "    </tr>\n",
       "  </thead>\n",
       "  <tbody>\n",
       "    <tr>\n",
       "      <th>0</th>\n",
       "      <td>5.691270e+09</td>\n",
       "      <td>1.278309e+09</td>\n",
       "      <td>2.052586e+10</td>\n",
       "    </tr>\n",
       "    <tr>\n",
       "      <th>1</th>\n",
       "      <td>5.687283e+09</td>\n",
       "      <td>1.878403e+09</td>\n",
       "      <td>2.057794e+10</td>\n",
       "    </tr>\n",
       "    <tr>\n",
       "      <th>2</th>\n",
       "      <td>5.685346e+09</td>\n",
       "      <td>1.076052e+09</td>\n",
       "      <td>2.085595e+10</td>\n",
       "    </tr>\n",
       "    <tr>\n",
       "      <th>3</th>\n",
       "      <td>5.692108e+09</td>\n",
       "      <td>1.656532e+09</td>\n",
       "      <td>2.280406e+10</td>\n",
       "    </tr>\n",
       "  </tbody>\n",
       "</table>\n",
       "</div>"
      ],
      "text/plain": [
       "   Electricity:Facility  DistrictCooling:Facility  DistrictHeating:Facility\n",
       "0          5.691270e+09              1.278309e+09              2.052586e+10\n",
       "1          5.687283e+09              1.878403e+09              2.057794e+10\n",
       "2          5.685346e+09              1.076052e+09              2.085595e+10\n",
       "3          5.692108e+09              1.656532e+09              2.280406e+10"
      ]
     },
     "execution_count": 20,
     "metadata": {},
     "output_type": "execute_result"
    }
   ],
   "source": [
    "evaluator = EvaluatorEP(besos_problem, building, out_dir='outputdir', err_dir='outputdir') # outputdir must exist; E+ files will be written there\n",
    "runs = pd.DataFrame.from_dict({'0': [0],'1':[90],'2':[180],'3':[270]}, orient='index') # Make a dataframe of runs with different oriantation\n",
    "outputs = evaluator.df_apply(runs) # Run this as a test,\n",
    "outputs"
   ]
  },
  {
   "cell_type": "code",
   "execution_count": 48,
   "metadata": {},
   "outputs": [
    {
     "data": {
      "text/html": [
       "<div>\n",
       "<style scoped>\n",
       "    .dataframe tbody tr th:only-of-type {\n",
       "        vertical-align: middle;\n",
       "    }\n",
       "\n",
       "    .dataframe tbody tr th {\n",
       "        vertical-align: top;\n",
       "    }\n",
       "\n",
       "    .dataframe thead th {\n",
       "        text-align: right;\n",
       "    }\n",
       "</style>\n",
       "<table border=\"1\" class=\"dataframe\">\n",
       "  <thead>\n",
       "    <tr style=\"text-align: right;\">\n",
       "      <th></th>\n",
       "      <th>Electricity:Facility</th>\n",
       "      <th>DistrictCooling:Facility</th>\n",
       "      <th>DistrictHeating:Facility</th>\n",
       "      <th>Total</th>\n",
       "    </tr>\n",
       "  </thead>\n",
       "  <tbody>\n",
       "    <tr>\n",
       "      <th>0</th>\n",
       "      <td>5.691270e+09</td>\n",
       "      <td>1.278309e+09</td>\n",
       "      <td>2.052586e+10</td>\n",
       "      <td>2.749544e+10</td>\n",
       "    </tr>\n",
       "    <tr>\n",
       "      <th>1</th>\n",
       "      <td>5.687283e+09</td>\n",
       "      <td>1.878403e+09</td>\n",
       "      <td>2.057794e+10</td>\n",
       "      <td>2.814363e+10</td>\n",
       "    </tr>\n",
       "    <tr>\n",
       "      <th>2</th>\n",
       "      <td>5.685346e+09</td>\n",
       "      <td>1.076052e+09</td>\n",
       "      <td>2.085595e+10</td>\n",
       "      <td>2.761735e+10</td>\n",
       "    </tr>\n",
       "    <tr>\n",
       "      <th>3</th>\n",
       "      <td>5.692108e+09</td>\n",
       "      <td>1.656532e+09</td>\n",
       "      <td>2.280406e+10</td>\n",
       "      <td>3.015270e+10</td>\n",
       "    </tr>\n",
       "  </tbody>\n",
       "</table>\n",
       "</div>"
      ],
      "text/plain": [
       "   Electricity:Facility  DistrictCooling:Facility  DistrictHeating:Facility  \\\n",
       "0          5.691270e+09              1.278309e+09              2.052586e+10   \n",
       "1          5.687283e+09              1.878403e+09              2.057794e+10   \n",
       "2          5.685346e+09              1.076052e+09              2.085595e+10   \n",
       "3          5.692108e+09              1.656532e+09              2.280406e+10   \n",
       "\n",
       "          Total  \n",
       "0  2.749544e+10  \n",
       "1  2.814363e+10  \n",
       "2  2.761735e+10  \n",
       "3  3.015270e+10  "
      ]
     },
     "execution_count": 48,
     "metadata": {},
     "output_type": "execute_result"
    }
   ],
   "source": [
    "outputs['Total'] = 0\n",
    "outputs['Total'] = outputs.sum(axis=1)  # axis = 0 is the default sum rows\n",
    "outputs"
   ]
  },
  {
   "cell_type": "code",
   "execution_count": 50,
   "metadata": {},
   "outputs": [
    {
     "data": {
      "text/html": [
       "<div>\n",
       "<style scoped>\n",
       "    .dataframe tbody tr th:only-of-type {\n",
       "        vertical-align: middle;\n",
       "    }\n",
       "\n",
       "    .dataframe tbody tr th {\n",
       "        vertical-align: top;\n",
       "    }\n",
       "\n",
       "    .dataframe thead th {\n",
       "        text-align: right;\n",
       "    }\n",
       "</style>\n",
       "<table border=\"1\" class=\"dataframe\">\n",
       "  <thead>\n",
       "    <tr style=\"text-align: right;\">\n",
       "      <th></th>\n",
       "      <th>Electricity:Facility</th>\n",
       "      <th>DistrictCooling:Facility</th>\n",
       "      <th>DistrictHeating:Facility</th>\n",
       "      <th>Total</th>\n",
       "    </tr>\n",
       "  </thead>\n",
       "  <tbody>\n",
       "    <tr>\n",
       "      <th>0</th>\n",
       "      <td>5.691270e+09</td>\n",
       "      <td>1.278309e+09</td>\n",
       "      <td>2.052586e+10</td>\n",
       "      <td>2.749544e+10</td>\n",
       "    </tr>\n",
       "  </tbody>\n",
       "</table>\n",
       "</div>"
      ],
      "text/plain": [
       "   Electricity:Facility  DistrictCooling:Facility  DistrictHeating:Facility  \\\n",
       "0          5.691270e+09              1.278309e+09              2.052586e+10   \n",
       "\n",
       "          Total  \n",
       "0  2.749544e+10  "
      ]
     },
     "execution_count": 50,
     "metadata": {},
     "output_type": "execute_result"
    }
   ],
   "source": [
    "outputs[outputs['Total']==outputs['Total'].min()]"
   ]
  },
  {
   "cell_type": "code",
   "execution_count": null,
   "metadata": {},
   "outputs": [],
   "source": [
    "# the north axis = 0 is the best oriantation of the building"
   ]
  }
 ],
 "metadata": {
  "kernelspec": {
   "display_name": "Python 3",
   "language": "python",
   "name": "python3"
  },
  "language_info": {
   "codemirror_mode": {
    "name": "ipython",
    "version": 3
   },
   "file_extension": ".py",
   "mimetype": "text/x-python",
   "name": "python",
   "nbconvert_exporter": "python",
   "pygments_lexer": "ipython3",
   "version": "3.8.5"
  }
 },
 "nbformat": 4,
 "nbformat_minor": 4
}
