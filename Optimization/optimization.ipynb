{
 "cells": [
  {
   "cell_type": "code",
   "execution_count": 10,
   "metadata": {},
   "outputs": [],
   "source": [
    "import os\n",
    "import besos\n",
    "from besos import eppy_funcs as ef\n",
    "from besos import eplus_funcs as ep\n",
    "from besos.problem import EPProblem\n",
    "from besos.evaluator import EvaluatorEP\n",
    "from besos.parameters import wwr, RangeParameter, FieldSelector, FilterSelector, GenericSelector, Parameter, expand_plist,DependentParameter\n",
    "from besos.objectives import MeterReader,time_series_values,EPResults\n",
    "from besos.optimizer import NSGAII, df_solution_to_solutions\n",
    "import pandas as pd"
   ]
  },
  {
   "cell_type": "code",
   "execution_count": 11,
   "metadata": {},
   "outputs": [],
   "source": [
    "# Open the IDF file\n",
    "idf_directory = \"/home/ict4bd/Desktop/ict4building/DesignBuilderModel/1_layer_window.idf\"\n",
    "weather_file = '/home/ict4bd/Desktop/ict4building/Requirements/CHE_Geneva.067000_IWEC/CHE_Geneva.067000_IWEC.epw'\n",
    "building = ef.get_building(idf_directory)"
   ]
  },
  {
   "cell_type": "code",
   "execution_count": 12,
   "metadata": {},
   "outputs": [
    {
     "data": {
      "text/plain": [
       "'9.0'"
      ]
     },
     "execution_count": 12,
     "metadata": {},
     "output_type": "execute_result"
    }
   ],
   "source": [
    "# check the version if 8.X then convert it using E+\n",
    "ep.get_idf_version(building)"
   ]
  },
  {
   "cell_type": "code",
   "execution_count": 13,
   "metadata": {},
   "outputs": [
    {
     "data": {
      "text/plain": [
       "['Cast Concrete (Dense)_.1',\n",
       " 'Gypsum Plasterboard_.O25',\n",
       " 'Brickwork Outer_.1',\n",
       " 'XPS Extruded Polystyrene  - CO2 Blowing_.O792',\n",
       " 'Concrete Block (Medium)_.1',\n",
       " 'Gypsum Plastering_.O13']"
      ]
     },
     "execution_count": 13,
     "metadata": {},
     "output_type": "execute_result"
    }
   ],
   "source": [
    "# get a list of the Name property of all IDF objects of class MATERIAL\n",
    "[materials.Name for materials in building.idfobjects[\"MATERIAL\"]]"
   ]
  },
  {
   "cell_type": "code",
   "execution_count": 14,
   "metadata": {},
   "outputs": [
    {
     "name": "stdout",
     "output_type": "stream",
     "text": [
      "[Parameter(name='North Axis', selector=FieldSelector(field_name='North Axis', object_name='Building'), value_descriptor=RangeParameter(min=0, max=359)), Parameter(name='Window to Wall Ratio', selector=wwrSelector(), value_descriptor=RangeParameter(min=0.1, max=0.9)), Parameter(name='Insulation Thickness', selector=FieldSelector(field_name='Thickness', class_name='Material', object_name='XPS Extruded Polystyrene  - CO2 Blowing_.O792'), value_descriptor=RangeParameter(min=0.01, max=0.99))]\n"
     ]
    }
   ],
   "source": [
    "## Set up evaluator\n",
    "# Parameter Space\n",
    "parameters = []\n",
    "parameters = expand_plist( # Use helper function to make parameter list\n",
    "    {'Building':                      # Name from IDF Building object\n",
    "          {'North Axis':(0,359)}}     # Change orientation from North\n",
    "    )\n",
    "\n",
    "parameters.append(wwr(RangeParameter(0.1,0.9)))\n",
    "\n",
    "zero_to_one_exclusive = RangeParameter(min_val = 0.01, max_val=0.99) # TODO change parameters\n",
    "\n",
    "insulation = FieldSelector(class_name='Material', object_name='XPS Extruded Polystyrene  - CO2 Blowing_.O792', field_name='Thickness')\n",
    "parameters.append(Parameter(selector=insulation,value_descriptor=zero_to_one_exclusive,name='Insulation Thickness'))  # the name is just for readability\n",
    "\n",
    "print(parameters)"
   ]
  },
  {
   "cell_type": "code",
   "execution_count": 16,
   "metadata": {},
   "outputs": [
    {
     "name": "stdout",
     "output_type": "stream",
     "text": [
      "Electricity:Facility  ::  1603.62 kWh\n",
      "DistrictCooling:Facility  ::  103.60 kWh\n",
      "DistrictHeating:Facility  ::  6421.32 kWh\n"
     ]
    }
   ],
   "source": [
    "# Objectives of our problem which is to minimize the TOTAL COMSUMPTION\n",
    "objectives = ['Electricity:Facility','DistrictCooling:Facility', 'DistrictHeating:Facility']\n",
    "\n",
    "# problem = parameters + objectives\n",
    "besos_problem = EPProblem(parameters, objectives)\n",
    "\n",
    "# EPProblem vs EvaluatorEP = problem + building\n",
    "evaluator = EvaluatorEP(besos_problem, building, out_dir='outputdir', err_dir='outputdir') \n",
    "\n",
    "\n",
    "result = evaluator([0, 0.5, 0.0792]) \n",
    "values = dict(zip(objectives, result))\n",
    "for key, value in values.items():\n",
    "    print(key, \" :: \", \"{0:.2f}\".format(value/3.6e6), \"kWh\")"
   ]
  },
  {
   "cell_type": "code",
   "execution_count": null,
   "metadata": {},
   "outputs": [],
   "source": []
  },
  {
   "cell_type": "code",
   "execution_count": null,
   "metadata": {},
   "outputs": [],
   "source": []
  },
  {
   "cell_type": "code",
   "execution_count": null,
   "metadata": {},
   "outputs": [],
   "source": [
    "\n"
   ]
  },
  {
   "cell_type": "code",
   "execution_count": null,
   "metadata": {},
   "outputs": [],
   "source": []
  },
  {
   "cell_type": "code",
   "execution_count": null,
   "metadata": {},
   "outputs": [],
   "source": []
  },
  {
   "cell_type": "code",
   "execution_count": null,
   "metadata": {},
   "outputs": [],
   "source": []
  }
 ],
 "metadata": {
  "kernelspec": {
   "display_name": "Python 3",
   "language": "python",
   "name": "python3"
  },
  "language_info": {
   "codemirror_mode": {
    "name": "ipython",
    "version": 3
   },
   "file_extension": ".py",
   "mimetype": "text/x-python",
   "name": "python",
   "nbconvert_exporter": "python",
   "pygments_lexer": "ipython3",
   "version": "3.8.5"
  }
 },
 "nbformat": 4,
 "nbformat_minor": 4
}
